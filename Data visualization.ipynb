{
 "cells": [
  {
   "cell_type": "code",
   "execution_count": 136,
   "metadata": {
    "collapsed": true,
    "scrolled": true
   },
   "outputs": [],
   "source": [
    "import numpy as np\n",
    "import pandas as pd\n",
    "import matplotlib.pyplot as plt\n",
    "from scipy.stats import mstats\n",
    "from sklearn.linear_model import SGDClassifier\n",
    "import mltools as ml"
   ]
  },
  {
   "cell_type": "code",
   "execution_count": 149,
   "metadata": {
    "collapsed": true
   },
   "outputs": [],
   "source": [
    "X = np.genfromtxt('X_train.txt')\n",
    "Y = np.genfromtxt('Y_train.txt')\n",
    "Xte = np.genfromtxt('X_test.txt')\n",
    "X,Y = ml.shuffleData(X,Y)\n",
    "\n",
    "Xtr,Xva,Ytr,Yva = ml.splitData(X,Y)"
   ]
  },
  {
   "cell_type": "code",
   "execution_count": 150,
   "metadata": {},
   "outputs": [
    {
     "data": {
      "text/html": [
       "<div>\n",
       "<style scoped>\n",
       "    .dataframe tbody tr th:only-of-type {\n",
       "        vertical-align: middle;\n",
       "    }\n",
       "\n",
       "    .dataframe tbody tr th {\n",
       "        vertical-align: top;\n",
       "    }\n",
       "\n",
       "    .dataframe thead th {\n",
       "        text-align: right;\n",
       "    }\n",
       "</style>\n",
       "<table border=\"1\" class=\"dataframe\">\n",
       "  <thead>\n",
       "    <tr style=\"text-align: right;\">\n",
       "      <th></th>\n",
       "      <th>0</th>\n",
       "      <th>1</th>\n",
       "      <th>2</th>\n",
       "      <th>3</th>\n",
       "      <th>4</th>\n",
       "      <th>5</th>\n",
       "      <th>6</th>\n",
       "      <th>7</th>\n",
       "      <th>8</th>\n",
       "      <th>9</th>\n",
       "      <th>10</th>\n",
       "      <th>11</th>\n",
       "      <th>12</th>\n",
       "      <th>13</th>\n",
       "    </tr>\n",
       "  </thead>\n",
       "  <tbody>\n",
       "    <tr>\n",
       "      <th>count</th>\n",
       "      <td>160000.000000</td>\n",
       "      <td>160000.000000</td>\n",
       "      <td>160000.000000</td>\n",
       "      <td>160000.000000</td>\n",
       "      <td>160000.000000</td>\n",
       "      <td>160000.000000</td>\n",
       "      <td>160000.000000</td>\n",
       "      <td>160000.000000</td>\n",
       "      <td>160000.000000</td>\n",
       "      <td>160000.000000</td>\n",
       "      <td>160000.000000</td>\n",
       "      <td>160000.000000</td>\n",
       "      <td>160000.000000</td>\n",
       "      <td>160000.000000</td>\n",
       "    </tr>\n",
       "    <tr>\n",
       "      <th>mean</th>\n",
       "      <td>241.600069</td>\n",
       "      <td>227.385533</td>\n",
       "      <td>241.558271</td>\n",
       "      <td>232.838386</td>\n",
       "      <td>3091.603719</td>\n",
       "      <td>928.641744</td>\n",
       "      <td>138.159406</td>\n",
       "      <td>3.246318</td>\n",
       "      <td>6.496755</td>\n",
       "      <td>2.095569</td>\n",
       "      <td>4.216429</td>\n",
       "      <td>2.689919</td>\n",
       "      <td>10.284188</td>\n",
       "      <td>5.771489</td>\n",
       "    </tr>\n",
       "    <tr>\n",
       "      <th>std</th>\n",
       "      <td>9.141593</td>\n",
       "      <td>9.619441</td>\n",
       "      <td>5.939732</td>\n",
       "      <td>9.881241</td>\n",
       "      <td>3953.363883</td>\n",
       "      <td>1755.645326</td>\n",
       "      <td>668.825028</td>\n",
       "      <td>2.871297</td>\n",
       "      <td>2.528585</td>\n",
       "      <td>2.087382</td>\n",
       "      <td>2.021427</td>\n",
       "      <td>1.485261</td>\n",
       "      <td>20.587912</td>\n",
       "      <td>58.807584</td>\n",
       "    </tr>\n",
       "    <tr>\n",
       "      <th>min</th>\n",
       "      <td>195.000000</td>\n",
       "      <td>152.500000</td>\n",
       "      <td>214.250000</td>\n",
       "      <td>152.500000</td>\n",
       "      <td>10.000000</td>\n",
       "      <td>0.000000</td>\n",
       "      <td>0.000000</td>\n",
       "      <td>0.000000</td>\n",
       "      <td>0.875890</td>\n",
       "      <td>0.000000</td>\n",
       "      <td>0.000000</td>\n",
       "      <td>0.000000</td>\n",
       "      <td>0.990490</td>\n",
       "      <td>-999.900000</td>\n",
       "    </tr>\n",
       "    <tr>\n",
       "      <th>25%</th>\n",
       "      <td>236.000000</td>\n",
       "      <td>223.000000</td>\n",
       "      <td>238.500000</td>\n",
       "      <td>230.420000</td>\n",
       "      <td>558.000000</td>\n",
       "      <td>8.000000</td>\n",
       "      <td>0.000000</td>\n",
       "      <td>1.438900</td>\n",
       "      <td>4.773100</td>\n",
       "      <td>0.372680</td>\n",
       "      <td>2.855500</td>\n",
       "      <td>1.690700</td>\n",
       "      <td>1.955200</td>\n",
       "      <td>0.000000</td>\n",
       "    </tr>\n",
       "    <tr>\n",
       "      <th>50%</th>\n",
       "      <td>243.000000</td>\n",
       "      <td>229.000000</td>\n",
       "      <td>242.450000</td>\n",
       "      <td>232.980000</td>\n",
       "      <td>1651.000000</td>\n",
       "      <td>211.000000</td>\n",
       "      <td>0.000000</td>\n",
       "      <td>2.314800</td>\n",
       "      <td>6.145800</td>\n",
       "      <td>1.645800</td>\n",
       "      <td>3.678400</td>\n",
       "      <td>2.333100</td>\n",
       "      <td>4.064800</td>\n",
       "      <td>0.000000</td>\n",
       "    </tr>\n",
       "    <tr>\n",
       "      <th>75%</th>\n",
       "      <td>249.000000</td>\n",
       "      <td>234.000000</td>\n",
       "      <td>245.860000</td>\n",
       "      <td>234.780000</td>\n",
       "      <td>4151.000000</td>\n",
       "      <td>1035.000000</td>\n",
       "      <td>0.000000</td>\n",
       "      <td>4.078700</td>\n",
       "      <td>7.765000</td>\n",
       "      <td>2.969325</td>\n",
       "      <td>5.051700</td>\n",
       "      <td>3.343500</td>\n",
       "      <td>20.000000</td>\n",
       "      <td>0.300000</td>\n",
       "    </tr>\n",
       "    <tr>\n",
       "      <th>max</th>\n",
       "      <td>253.000000</td>\n",
       "      <td>249.000000</td>\n",
       "      <td>252.500000</td>\n",
       "      <td>252.500000</td>\n",
       "      <td>31048.000000</td>\n",
       "      <td>13630.000000</td>\n",
       "      <td>9238.000000</td>\n",
       "      <td>125.170000</td>\n",
       "      <td>19.167000</td>\n",
       "      <td>13.230000</td>\n",
       "      <td>66.761000</td>\n",
       "      <td>73.902000</td>\n",
       "      <td>975.040000</td>\n",
       "      <td>797.200000</td>\n",
       "    </tr>\n",
       "  </tbody>\n",
       "</table>\n",
       "</div>"
      ],
      "text/plain": [
       "                  0              1              2              3   \\\n",
       "count  160000.000000  160000.000000  160000.000000  160000.000000   \n",
       "mean      241.600069     227.385533     241.558271     232.838386   \n",
       "std         9.141593       9.619441       5.939732       9.881241   \n",
       "min       195.000000     152.500000     214.250000     152.500000   \n",
       "25%       236.000000     223.000000     238.500000     230.420000   \n",
       "50%       243.000000     229.000000     242.450000     232.980000   \n",
       "75%       249.000000     234.000000     245.860000     234.780000   \n",
       "max       253.000000     249.000000     252.500000     252.500000   \n",
       "\n",
       "                  4              5              6              7   \\\n",
       "count  160000.000000  160000.000000  160000.000000  160000.000000   \n",
       "mean     3091.603719     928.641744     138.159406       3.246318   \n",
       "std      3953.363883    1755.645326     668.825028       2.871297   \n",
       "min        10.000000       0.000000       0.000000       0.000000   \n",
       "25%       558.000000       8.000000       0.000000       1.438900   \n",
       "50%      1651.000000     211.000000       0.000000       2.314800   \n",
       "75%      4151.000000    1035.000000       0.000000       4.078700   \n",
       "max     31048.000000   13630.000000    9238.000000     125.170000   \n",
       "\n",
       "                  8              9              10             11  \\\n",
       "count  160000.000000  160000.000000  160000.000000  160000.000000   \n",
       "mean        6.496755       2.095569       4.216429       2.689919   \n",
       "std         2.528585       2.087382       2.021427       1.485261   \n",
       "min         0.875890       0.000000       0.000000       0.000000   \n",
       "25%         4.773100       0.372680       2.855500       1.690700   \n",
       "50%         6.145800       1.645800       3.678400       2.333100   \n",
       "75%         7.765000       2.969325       5.051700       3.343500   \n",
       "max        19.167000      13.230000      66.761000      73.902000   \n",
       "\n",
       "                  12             13  \n",
       "count  160000.000000  160000.000000  \n",
       "mean       10.284188       5.771489  \n",
       "std        20.587912      58.807584  \n",
       "min         0.990490    -999.900000  \n",
       "25%         1.955200       0.000000  \n",
       "50%         4.064800       0.000000  \n",
       "75%        20.000000       0.300000  \n",
       "max       975.040000     797.200000  "
      ]
     },
     "execution_count": 150,
     "metadata": {},
     "output_type": "execute_result"
    }
   ],
   "source": [
    "data = pd.DataFrame(Xtr)\n",
    "data.describe()"
   ]
  },
  {
   "cell_type": "code",
   "execution_count": 148,
   "metadata": {},
   "outputs": [
    {
     "name": "stdout",
     "output_type": "stream",
     "text": [
      "0.65786875 0.66325\n"
     ]
    }
   ],
   "source": [
    "clf = SGDClassifier(max_iter=1000);\n",
    "clf.fit(Xtr,Ytr)\n",
    "print(clf.score(Xtr,Ytr),clf.score(Xva,Yva))"
   ]
  },
  {
   "cell_type": "code",
   "execution_count": 151,
   "metadata": {
    "collapsed": true
   },
   "outputs": [],
   "source": [
    "XtS, params = ml.rescale(Xtr) # Normalize the features\n",
    "XvS, _ = ml.rescale(Xva, params)"
   ]
  },
  {
   "cell_type": "code",
   "execution_count": 152,
   "metadata": {},
   "outputs": [
    {
     "name": "stdout",
     "output_type": "stream",
     "text": [
      "0.66085 0.662475\n"
     ]
    }
   ],
   "source": [
    "clf = SGDClassifier(max_iter=1000);\n",
    "clf.fit(XtS,Ytr)\n",
    "print(clf.score(XtS,Ytr),clf.score(XvS,Yva))"
   ]
  },
  {
   "cell_type": "code",
   "execution_count": 153,
   "metadata": {
    "collapsed": true
   },
   "outputs": [],
   "source": [
    "for i in range(14):\n",
    "    transformed_data = pd.Series(mstats.winsorize(data[i], limits=[0.05, 0.05]))\n",
    "    data[i] = transformed_data;"
   ]
  },
  {
   "cell_type": "code",
   "execution_count": 154,
   "metadata": {},
   "outputs": [
    {
     "data": {
      "text/html": [
       "<div>\n",
       "<style scoped>\n",
       "    .dataframe tbody tr th:only-of-type {\n",
       "        vertical-align: middle;\n",
       "    }\n",
       "\n",
       "    .dataframe tbody tr th {\n",
       "        vertical-align: top;\n",
       "    }\n",
       "\n",
       "    .dataframe thead th {\n",
       "        text-align: right;\n",
       "    }\n",
       "</style>\n",
       "<table border=\"1\" class=\"dataframe\">\n",
       "  <thead>\n",
       "    <tr style=\"text-align: right;\">\n",
       "      <th></th>\n",
       "      <th>0</th>\n",
       "      <th>1</th>\n",
       "      <th>2</th>\n",
       "      <th>3</th>\n",
       "      <th>4</th>\n",
       "      <th>5</th>\n",
       "      <th>6</th>\n",
       "      <th>7</th>\n",
       "      <th>8</th>\n",
       "      <th>9</th>\n",
       "      <th>10</th>\n",
       "      <th>11</th>\n",
       "      <th>12</th>\n",
       "      <th>13</th>\n",
       "    </tr>\n",
       "  </thead>\n",
       "  <tbody>\n",
       "    <tr>\n",
       "      <th>count</th>\n",
       "      <td>160000.000000</td>\n",
       "      <td>160000.000000</td>\n",
       "      <td>160000.000000</td>\n",
       "      <td>160000.00000</td>\n",
       "      <td>160000.000000</td>\n",
       "      <td>160000.000000</td>\n",
       "      <td>160000.000000</td>\n",
       "      <td>160000.000000</td>\n",
       "      <td>160000.000000</td>\n",
       "      <td>160000.000000</td>\n",
       "      <td>160000.000000</td>\n",
       "      <td>160000.000000</td>\n",
       "      <td>160000.000000</td>\n",
       "      <td>160000.000000</td>\n",
       "    </tr>\n",
       "    <tr>\n",
       "      <th>mean</th>\n",
       "      <td>241.912927</td>\n",
       "      <td>227.570878</td>\n",
       "      <td>241.738160</td>\n",
       "      <td>232.93547</td>\n",
       "      <td>2836.452063</td>\n",
       "      <td>786.456250</td>\n",
       "      <td>60.563187</td>\n",
       "      <td>3.091282</td>\n",
       "      <td>6.431385</td>\n",
       "      <td>2.030180</td>\n",
       "      <td>4.159393</td>\n",
       "      <td>2.649396</td>\n",
       "      <td>8.954289</td>\n",
       "      <td>5.591730</td>\n",
       "    </tr>\n",
       "    <tr>\n",
       "      <th>std</th>\n",
       "      <td>8.302200</td>\n",
       "      <td>8.887011</td>\n",
       "      <td>5.288023</td>\n",
       "      <td>9.54607</td>\n",
       "      <td>2969.271208</td>\n",
       "      <td>1172.913913</td>\n",
       "      <td>180.809453</td>\n",
       "      <td>2.229602</td>\n",
       "      <td>2.265485</td>\n",
       "      <td>1.905401</td>\n",
       "      <td>1.657725</td>\n",
       "      <td>1.202142</td>\n",
       "      <td>8.107771</td>\n",
       "      <td>12.794461</td>\n",
       "    </tr>\n",
       "    <tr>\n",
       "      <th>min</th>\n",
       "      <td>224.000000</td>\n",
       "      <td>208.000000</td>\n",
       "      <td>230.000000</td>\n",
       "      <td>216.15000</td>\n",
       "      <td>120.000000</td>\n",
       "      <td>0.000000</td>\n",
       "      <td>0.000000</td>\n",
       "      <td>0.740870</td>\n",
       "      <td>2.986200</td>\n",
       "      <td>0.000000</td>\n",
       "      <td>2.240700</td>\n",
       "      <td>1.169800</td>\n",
       "      <td>1.287700</td>\n",
       "      <td>0.000000</td>\n",
       "    </tr>\n",
       "    <tr>\n",
       "      <th>25%</th>\n",
       "      <td>236.000000</td>\n",
       "      <td>223.000000</td>\n",
       "      <td>238.500000</td>\n",
       "      <td>230.42000</td>\n",
       "      <td>558.000000</td>\n",
       "      <td>8.000000</td>\n",
       "      <td>0.000000</td>\n",
       "      <td>1.438900</td>\n",
       "      <td>4.773100</td>\n",
       "      <td>0.372680</td>\n",
       "      <td>2.855500</td>\n",
       "      <td>1.690700</td>\n",
       "      <td>1.955200</td>\n",
       "      <td>0.000000</td>\n",
       "    </tr>\n",
       "    <tr>\n",
       "      <th>50%</th>\n",
       "      <td>243.000000</td>\n",
       "      <td>229.000000</td>\n",
       "      <td>242.450000</td>\n",
       "      <td>232.98000</td>\n",
       "      <td>1651.000000</td>\n",
       "      <td>211.000000</td>\n",
       "      <td>0.000000</td>\n",
       "      <td>2.314800</td>\n",
       "      <td>6.145800</td>\n",
       "      <td>1.645800</td>\n",
       "      <td>3.678400</td>\n",
       "      <td>2.333100</td>\n",
       "      <td>4.064800</td>\n",
       "      <td>0.000000</td>\n",
       "    </tr>\n",
       "    <tr>\n",
       "      <th>75%</th>\n",
       "      <td>249.000000</td>\n",
       "      <td>234.000000</td>\n",
       "      <td>245.860000</td>\n",
       "      <td>234.78000</td>\n",
       "      <td>4151.000000</td>\n",
       "      <td>1035.000000</td>\n",
       "      <td>0.000000</td>\n",
       "      <td>4.078700</td>\n",
       "      <td>7.765000</td>\n",
       "      <td>2.969325</td>\n",
       "      <td>5.051700</td>\n",
       "      <td>3.343500</td>\n",
       "      <td>20.000000</td>\n",
       "      <td>0.300000</td>\n",
       "    </tr>\n",
       "    <tr>\n",
       "      <th>max</th>\n",
       "      <td>253.000000</td>\n",
       "      <td>241.000000</td>\n",
       "      <td>249.340000</td>\n",
       "      <td>249.32000</td>\n",
       "      <td>10530.000000</td>\n",
       "      <td>4146.000000</td>\n",
       "      <td>735.000000</td>\n",
       "      <td>8.758400</td>\n",
       "      <td>11.430000</td>\n",
       "      <td>6.504200</td>\n",
       "      <td>8.166100</td>\n",
       "      <td>5.448300</td>\n",
       "      <td>20.000000</td>\n",
       "      <td>47.300000</td>\n",
       "    </tr>\n",
       "  </tbody>\n",
       "</table>\n",
       "</div>"
      ],
      "text/plain": [
       "                  0              1              2             3   \\\n",
       "count  160000.000000  160000.000000  160000.000000  160000.00000   \n",
       "mean      241.912927     227.570878     241.738160     232.93547   \n",
       "std         8.302200       8.887011       5.288023       9.54607   \n",
       "min       224.000000     208.000000     230.000000     216.15000   \n",
       "25%       236.000000     223.000000     238.500000     230.42000   \n",
       "50%       243.000000     229.000000     242.450000     232.98000   \n",
       "75%       249.000000     234.000000     245.860000     234.78000   \n",
       "max       253.000000     241.000000     249.340000     249.32000   \n",
       "\n",
       "                  4              5              6              7   \\\n",
       "count  160000.000000  160000.000000  160000.000000  160000.000000   \n",
       "mean     2836.452063     786.456250      60.563187       3.091282   \n",
       "std      2969.271208    1172.913913     180.809453       2.229602   \n",
       "min       120.000000       0.000000       0.000000       0.740870   \n",
       "25%       558.000000       8.000000       0.000000       1.438900   \n",
       "50%      1651.000000     211.000000       0.000000       2.314800   \n",
       "75%      4151.000000    1035.000000       0.000000       4.078700   \n",
       "max     10530.000000    4146.000000     735.000000       8.758400   \n",
       "\n",
       "                  8              9              10             11  \\\n",
       "count  160000.000000  160000.000000  160000.000000  160000.000000   \n",
       "mean        6.431385       2.030180       4.159393       2.649396   \n",
       "std         2.265485       1.905401       1.657725       1.202142   \n",
       "min         2.986200       0.000000       2.240700       1.169800   \n",
       "25%         4.773100       0.372680       2.855500       1.690700   \n",
       "50%         6.145800       1.645800       3.678400       2.333100   \n",
       "75%         7.765000       2.969325       5.051700       3.343500   \n",
       "max        11.430000       6.504200       8.166100       5.448300   \n",
       "\n",
       "                  12             13  \n",
       "count  160000.000000  160000.000000  \n",
       "mean        8.954289       5.591730  \n",
       "std         8.107771      12.794461  \n",
       "min         1.287700       0.000000  \n",
       "25%         1.955200       0.000000  \n",
       "50%         4.064800       0.000000  \n",
       "75%        20.000000       0.300000  \n",
       "max        20.000000      47.300000  "
      ]
     },
     "execution_count": 154,
     "metadata": {},
     "output_type": "execute_result"
    }
   ],
   "source": [
    "data = pd.DataFrame(Xtr)\n",
    "data.describe()"
   ]
  },
  {
   "cell_type": "code",
   "execution_count": 155,
   "metadata": {},
   "outputs": [
    {
     "name": "stdout",
     "output_type": "stream",
     "text": [
      "0.65676875 0.658575\n"
     ]
    }
   ],
   "source": [
    "clf = SGDClassifier(max_iter=1000);\n",
    "clf.fit(Xtr,Ytr)\n",
    "print(clf.score(Xtr,Ytr),clf.score(Xva,Yva))"
   ]
  },
  {
   "cell_type": "code",
   "execution_count": 156,
   "metadata": {
    "collapsed": true
   },
   "outputs": [],
   "source": [
    "XtS, params = ml.rescale(Xtr) # Normalize the features\n",
    "XvS, _ = ml.rescale(Xva, params)"
   ]
  },
  {
   "cell_type": "code",
   "execution_count": 157,
   "metadata": {},
   "outputs": [
    {
     "name": "stdout",
     "output_type": "stream",
     "text": [
      "0.67004375 0.668625\n"
     ]
    }
   ],
   "source": [
    "clf = SGDClassifier(max_iter=1000);\n",
    "clf.fit(XtS,Ytr)\n",
    "print(clf.score(XtS,Ytr),clf.score(XvS,Yva))"
   ]
  },
  {
   "cell_type": "code",
   "execution_count": 138,
   "metadata": {
    "collapsed": true
   },
   "outputs": [],
   "source": []
  },
  {
   "cell_type": "code",
   "execution_count": 140,
   "metadata": {
    "collapsed": true
   },
   "outputs": [],
   "source": []
  },
  {
   "cell_type": "markdown",
   "metadata": {},
   "source": [
    "\n"
   ]
  },
  {
   "cell_type": "markdown",
   "metadata": {},
   "source": [
    "data[0].plot.hist()\n",
    "plt.show()"
   ]
  },
  {
   "cell_type": "code",
   "execution_count": null,
   "metadata": {},
   "outputs": [],
   "source": [
    "x = []\n",
    "for i in range(15):\n",
    "    x.append(abs(np.corrcoef(Xtr[:,i],Ytr)[1,0]))"
   ]
  },
  {
   "cell_type": "code",
   "execution_count": null,
   "metadata": {},
   "outputs": [],
   "source": [
    "plt.plot(x)\n",
    "plt.xlabel('feature')\n",
    "plt.ylabel('corr_coef')\n",
    "plt.show()"
   ]
  },
  {
   "cell_type": "code",
   "execution_count": null,
   "metadata": {},
   "outputs": [],
   "source": [
    "plt.plot(x)\n",
    "plt.xlabel('feature')\n",
    "plt.ylabel('corr_coef')\n",
    "plt.show()"
   ]
  },
  {
   "cell_type": "code",
   "execution_count": null,
   "metadata": {},
   "outputs": [],
   "source": [
    "data[14].value_counts().plot(kind='barh', color=\"blue\", alpha=.65)\n",
    "plt.show()"
   ]
  },
  {
   "cell_type": "markdown",
   "metadata": {},
   "source": [
    "It seems like all features are used - there is no clear distinction w.r.t output"
   ]
  },
  {
   "cell_type": "markdown",
   "metadata": {},
   "source": [
    "\n"
   ]
  },
  {
   "cell_type": "markdown",
   "metadata": {},
   "source": []
  },
  {
   "cell_type": "code",
   "execution_count": null,
   "metadata": {},
   "outputs": [],
   "source": [
    "out = pd.cut(Xtr[:,0], bins = [x for x in range(190,270,10)], include_lowest=True)\n",
    "out[data[14]==0].value_counts().plot(kind='bar', color=\"blue\")\n",
    "plt.show()\n",
    "out[data[14]==1].value_counts().plot(kind='bar', color=\"red\")\n",
    "plt.show()"
   ]
  }
 ],
 "metadata": {
  "kernelspec": {
   "display_name": "Python 3",
   "language": "python",
   "name": "python3"
  },
  "language_info": {
   "codemirror_mode": {
    "name": "ipython",
    "version": 3
   },
   "file_extension": ".py",
   "mimetype": "text/x-python",
   "name": "python",
   "nbconvert_exporter": "python",
   "pygments_lexer": "ipython3",
   "version": "3.5.4"
  }
 },
 "nbformat": 4,
 "nbformat_minor": 2
}
