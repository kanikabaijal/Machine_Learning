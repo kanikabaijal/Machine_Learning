{
 "cells": [
  {
   "cell_type": "code",
   "execution_count": 3,
   "metadata": {},
   "outputs": [],
   "source": [
    "from sklearn.neural_network import MLPRegressor\n",
    "from sklearn.neural_network import MLPClassifier\n",
    "import numpy as np\n",
    "import matplotlib.pyplot as plt\n",
    "import mltools as ml\n",
    "X = np.genfromtxt('HW4-code\\X_train.txt',delimiter=None)\n",
    "Y = np.genfromtxt('HW4-code\\Y_train.txt',delimiter=None)"
   ]
  },
  {
   "cell_type": "code",
   "execution_count": 38,
   "metadata": {},
   "outputs": [],
   "source": [
    "import mltools as ml\n",
    "Xnew,Y = ml.shuffleData(Xnew,Y)\n",
    "\n",
    "Xtr, Xva, Ytr, Yva = ml.splitData(X, Y)"
   ]
  },
  {
   "cell_type": "code",
   "execution_count": 17,
   "metadata": {},
   "outputs": [
    {
     "data": {
      "text/plain": [
       "2.647658599841396e-05"
      ]
     },
     "execution_count": 17,
     "metadata": {},
     "output_type": "execute_result"
    }
   ],
   "source": [
    "mlp = MLPRegressor(hidden_layer_sizes=(5))\n",
    "mlp.fit(X,X)\n",
    "1-mlp.score(X,X)"
   ]
  },
  {
   "cell_type": "markdown",
   "metadata": {},
   "source": [
    "mlp.coefs_"
   ]
  },
  {
   "cell_type": "code",
   "execution_count": 27,
   "metadata": {},
   "outputs": [],
   "source": [
    "wts = np.array([[ 0.31794629,  0.27341403,  0.21574084,  0.1449384 ,  0.20460278],\n",
    "        [ 0.3522776 ,  0.16113854,  0.33527996,  0.08394801,  0.01178546],\n",
    "        [ 0.36402513,  0.30547699,  0.03159994,  0.38759805,  0.4653723 ],\n",
    "        [ 0.31641477,  0.33407917,  0.23195314,  0.15243365,  0.22001791],\n",
    "        [ 0.15996239,  0.003318  ,  0.7316732 ,  0.70028152,  0.55679494],\n",
    "        [-0.31848538,  0.72525948, -0.25255224,  0.47621395, -0.19843139],\n",
    "        [ 0.89193363,  0.39123272,  0.61342673,  0.96495077, -0.34320841],\n",
    "        [ 0.00273736, -0.00163308,  0.01784982, -0.01506472, -0.01791376],\n",
    "        [-0.01337637,  0.07887584,  0.11814275, -0.03968014, -0.03441208],\n",
    "        [ 0.05429986, -0.15406862,  0.37262102, -0.19777643, -0.49193956],\n",
    "        [ 0.05595829,  0.04744455,  0.05310304,  0.05876704,  0.0080572 ],\n",
    "        [-0.07288638, -0.03574092, -0.16349603,  0.00651542,  0.11701675],\n",
    "        [ 0.02513372,  0.01681343,  0.02285467,  0.01425846,  0.01320268],\n",
    "        [ 0.10136614, -0.32236246, -0.7498811 ,  0.25071092,  0.27447399]])"
   ]
  },
  {
   "cell_type": "code",
   "execution_count": 28,
   "metadata": {},
   "outputs": [
    {
     "data": {
      "text/plain": [
       "(14, 5)"
      ]
     },
     "execution_count": 28,
     "metadata": {},
     "output_type": "execute_result"
    }
   ],
   "source": [
    "wts.shape"
   ]
  },
  {
   "cell_type": "code",
   "execution_count": 33,
   "metadata": {},
   "outputs": [],
   "source": [
    "Xnew = X.dot(wts)"
   ]
  },
  {
   "cell_type": "code",
   "execution_count": 34,
   "metadata": {
    "scrolled": true
   },
   "outputs": [
    {
     "name": "stdout",
     "output_type": "stream",
     "text": [
      "[[  428.97389674   441.85865064  1001.79431917  1139.93459443\n",
      "    829.78327396]\n",
      " [  497.77555683   439.20661335  1287.99789784  1406.10387792\n",
      "   1048.19203854]\n",
      " [  544.7586645    794.98074956   974.18028418  1483.298815     539.30461508]\n",
      " ..., \n",
      " [  341.75372863   264.00962639   274.97152354   266.20600655   279.7176324 ]\n",
      " [  379.44815742   321.22900521   584.9312769    625.49221175\n",
      "    514.01443956]\n",
      " [  432.81393094   523.17487219  1148.05588296  1358.75020167\n",
      "    940.47414224]]\n"
     ]
    }
   ],
   "source": [
    "print(Xnew)"
   ]
  },
  {
   "cell_type": "code",
   "execution_count": 40,
   "metadata": {},
   "outputs": [],
   "source": [
    "from sklearn.neural_network import MLPClassifier"
   ]
  },
  {
   "cell_type": "code",
   "execution_count": 44,
   "metadata": {},
   "outputs": [
    {
     "data": {
      "text/plain": [
       "0.65643750000000001"
      ]
     },
     "execution_count": 44,
     "metadata": {},
     "output_type": "execute_result"
    }
   ],
   "source": [
    "mlp = MLPClassifier(hidden_layer_sizes=(40,40,40,40,40,40,40,40))\n",
    "mlp.fit(Xtr,Ytr)\n",
    "mlp.score(Xtr,Ytr)"
   ]
  },
  {
   "cell_type": "code",
   "execution_count": 45,
   "metadata": {},
   "outputs": [],
   "source": [
    "np.savetxt('weights.txt',wts)\n",
    "np.savetxt('X_new.txt',Xnew)"
   ]
  },
  {
   "cell_type": "code",
   "execution_count": 51,
   "metadata": {},
   "outputs": [
    {
     "data": {
      "text/plain": [
       "0"
      ]
     },
     "execution_count": 51,
     "metadata": {},
     "output_type": "execute_result"
    }
   ],
   "source": [
    "np.count_nonzero(Xnew-sa)"
   ]
  }
 ],
 "metadata": {
  "kernelspec": {
   "display_name": "Python 3",
   "language": "python",
   "name": "python3"
  },
  "language_info": {
   "codemirror_mode": {
    "name": "ipython",
    "version": 3
   },
   "file_extension": ".py",
   "mimetype": "text/x-python",
   "name": "python",
   "nbconvert_exporter": "python",
   "pygments_lexer": "ipython3",
   "version": "3.5.4"
  }
 },
 "nbformat": 4,
 "nbformat_minor": 2
}
